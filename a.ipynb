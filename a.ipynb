{
 "cells": [
  {
   "cell_type": "code",
   "execution_count": 1,
   "metadata": {},
   "outputs": [],
   "source": [
    "data1 = {\n",
    "            \"full_name\" : \"Руденко Михаил Петрович\", \n",
    "            \"phone_numbers\" : [\"8(800)5553535\", \"+7 953 974 18 000090\"],\n",
    "            \"emails\" : [\"dimas230@gmail.com\", \"fake_address@.a\"],\n",
    "            \"addresses\" : [\"Адрес1\", \"Адрес2\", None],\n",
    "            \"passport_number\" : \"8005 553535\",\n",
    "            \"birthday\" :  \"21 03 2001\"\n",
    "}"
   ]
  },
  {
   "cell_type": "code",
   "execution_count": null,
   "metadata": {},
   "outputs": [],
   "source": []
  },
  {
   "cell_type": "code",
   "execution_count": null,
   "metadata": {},
   "outputs": [],
   "source": []
  },
  {
   "cell_type": "code",
   "execution_count": 2,
   "metadata": {},
   "outputs": [
    {
     "ename": "ModuleNotFoundError",
     "evalue": "No module named 'validator'",
     "output_type": "error",
     "traceback": [
      "\u001b[0;31m---------------------------------------------------------------------------\u001b[0m",
      "\u001b[0;31mModuleNotFoundError\u001b[0m                       Traceback (most recent call last)",
      "\u001b[1;32m/home/memch/test_dir/validator/a.ipynb Cell 4'\u001b[0m in \u001b[0;36m<cell line: 1>\u001b[0;34m()\u001b[0m\n\u001b[0;32m----> <a href='vscode-notebook-cell://wsl%2Bubuntu-20.04/home/memch/test_dir/validator/a.ipynb#ch0000003vscode-remote?line=0'>1</a>\u001b[0m \u001b[39mfrom\u001b[39;00m \u001b[39mvalidator\u001b[39;00m \u001b[39mimport\u001b[39;00m validator\n\u001b[1;32m      <a href='vscode-notebook-cell://wsl%2Bubuntu-20.04/home/memch/test_dir/validator/a.ipynb#ch0000003vscode-remote?line=1'>2</a>\u001b[0m val \u001b[39m=\u001b[39m validator()\n",
      "\u001b[0;31mModuleNotFoundError\u001b[0m: No module named 'validator'"
     ]
    }
   ],
   "source": [
    "from validator import validator\n",
    "val = validator()"
   ]
  },
  {
   "cell_type": "code",
   "execution_count": null,
   "metadata": {},
   "outputs": [
    {
     "name": "stdout",
     "output_type": "stream",
     "text": [
      "я обязательно выживу лол\n"
     ]
    },
    {
     "data": {
      "text/plain": [
       "{'full_name': {'Руденко Михаил Петрович': True},\n",
       " 'phone_numbers': {'8(800)5553535': True, '+7 953 974 18 000090': False},\n",
       " 'emails': {'dimas230@gmail.com': True, 'fake_address@.a': False},\n",
       " 'addresses': {'Адрес1': True, 'Адрес2': True, None: True},\n",
       " 'passport_number': {'8005 553535': True},\n",
       " 'birthday': {'21 03 2001': True}}"
      ]
     },
     "execution_count": 38,
     "metadata": {},
     "output_type": "execute_result"
    }
   ],
   "source": [
    "val.validate_all(data1)"
   ]
  },
  {
   "cell_type": "code",
   "execution_count": null,
   "metadata": {},
   "outputs": [],
   "source": []
  },
  {
   "cell_type": "code",
   "execution_count": 4,
   "metadata": {},
   "outputs": [],
   "source": [
    "dict_data = {'full_name': 'Name', 'phone_numbers': ['phone1', 'phone2'], 'emails': ['phone1', 'phone2'], 'addresses': ['phone1', 'phone2'], 'passport_number': 'phone2', 'birthday': 'phone1'}"
   ]
  },
  {
   "cell_type": "code",
   "execution_count": 5,
   "metadata": {},
   "outputs": [
    {
     "name": "stdout",
     "output_type": "stream",
     "text": [
      "я обязательно выживу лол\n"
     ]
    },
    {
     "data": {
      "text/plain": [
       "{'full_name': {'Name': False},\n",
       " 'phone_numbers': {'phone1': False, 'phone2': False},\n",
       " 'emails': {'phone1': False, 'phone2': False},\n",
       " 'addresses': {'phone1': True, 'phone2': True},\n",
       " 'passport_number': {'phone2': True},\n",
       " 'birthday': {'phone1': True}}"
      ]
     },
     "execution_count": 5,
     "metadata": {},
     "output_type": "execute_result"
    }
   ],
   "source": [
    "from validator_class import Validator\n",
    "\n",
    "a = Validator()\n",
    "a.validate_all(dict_data)"
   ]
  },
  {
   "cell_type": "code",
   "execution_count": null,
   "metadata": {},
   "outputs": [],
   "source": []
  },
  {
   "cell_type": "code",
   "execution_count": null,
   "metadata": {},
   "outputs": [
    {
     "name": "stdout",
     "output_type": "stream",
     "text": [
      "5\n"
     ]
    }
   ],
   "source": []
  },
  {
   "cell_type": "code",
   "execution_count": null,
   "metadata": {},
   "outputs": [],
   "source": [
    "{'full_name': 'Name', 'phone_numbers': ['phone1', 'phone2'], 'emails': ['phone1', 'phone2'], 'addresses': ['phone1', 'phone2'], 'passport_number': 'phone2', 'birthday': 'phone1'}\n",
    "{'mods': {'phone_numbers', 'birthday', 'passport_number', 'addresses', 'full_name', 'emails'}, 'methods': {'full_name': <bound method Validator.__validate_name of <validator.Validator object at 0x7f3f2ef28040>>, 'phone_numbers': <bound method Validator.__validate_numbers of <validator.Validator object at 0x7f3f2ef28040>>, 'emails': <bound method Validator.__validate_mails of <validator.Validator object at 0x7f3f2ef28040>>, 'addresses': <bound method Validator.__validate_addresses of <validator.Validator object at 0x7f3f2ef28040>>, 'passport_number': <bound method Validator.__validate_passport of <validator.Validator object at 0x7f3f2ef28040>>, 'birthday': <bound method Validator.__validate_bd of <validator.Validator object at 0x7f3f2ef28040>>}, 'mail_regex': '(?:[a-z0-9!#$%&\\'*+/=?^_`{|}~-]+(?:\\\\.[a-z0-9!#$%&\\'*+/=?^_`{|}~-]+)*|\"(?:[\\x01-\\x08\\x0b\\x0c\\x0e-\\x1f!#-[]-\\x7f]|\\\\[\\x01-\\t\\x0b\\x0c\\x0e-\\x7f])*\")@(?:(?:[a-z0-9](?:[a-z0-9-]*[a-z0-9])?\\\\.)+[a-z0-9](?:[a-z0-9-]*[a-z0-9])?|\\\\[(?:(?:(2(5[0-5]|[0-4][0-9])|1[0-9][0-9]|[1-9]?[0-9]))\\\\.){3}(?:(2(5[0-5]|[0-4][0-9])|1[0-9][0-9]|[1-9]?[0-9])|[a-z0-9-]*[a-z0-9]:(?:[\\x01-\\x08\\x0b\\x0c\\x0e-\\x1f!-ZS-\\x7f]|\\\\[\\x01-\\t\\x0b\\x0c\\x0e-\\x7f])+)\\\\])', 'phone_regex': '^((8|\\\\+7)[\\\\- ]?)?(\\\\(?\\\\d{3}\\\\)?[\\\\- ]?)?[\\\\d***/\\\\- ]{7,10}$', 'is_number': <function Validator.__init__.<locals>.<lambda> at 0x7f3f31eb1d30>, 'is_mail': <function Validator.__init__.<locals>.<lambda> at 0x7f3f2ef40ca0>, 'russian_alphabet': 'АБВГДЕЖЗИЙКЛМНОПРСТУФХЦЧШЩЪЫЬЭЮЯ', 'english_alphabet': 'ABCDEFGHIJKLMNOPQRSTUVWXYZ'}"
   ]
  }
 ],
 "metadata": {
  "interpreter": {
   "hash": "916dbcbb3f70747c44a77c7bcd40155683ae19c65e1c03b4aa3499c5328201f1"
  },
  "kernelspec": {
   "display_name": "Python 3.8.10 64-bit",
   "language": "python",
   "name": "python3"
  },
  "language_info": {
   "codemirror_mode": {
    "name": "ipython",
    "version": 3
   },
   "file_extension": ".py",
   "mimetype": "text/x-python",
   "name": "python",
   "nbconvert_exporter": "python",
   "pygments_lexer": "ipython3",
   "version": "3.8.10"
  },
  "orig_nbformat": 4
 },
 "nbformat": 4,
 "nbformat_minor": 2
}
